{
 "metadata": {
  "language_info": {
   "codemirror_mode": {
    "name": "ipython",
    "version": 3
   },
   "file_extension": ".py",
   "mimetype": "text/x-python",
   "name": "python",
   "nbconvert_exporter": "python",
   "pygments_lexer": "ipython3",
   "version": "3.9.5"
  },
  "orig_nbformat": 2,
  "kernelspec": {
   "name": "python395jvsc74a57bd07812ea015bdcee6f23a998adcdd2ef97c151c0c241b7b7070987d9313e41299d",
   "display_name": "Python 3.9.5 64-bit ('3.9')"
  },
  "metadata": {
   "interpreter": {
    "hash": "7812ea015bdcee6f23a998adcdd2ef97c151c0c241b7b7070987d9313e41299d"
   }
  }
 },
 "nbformat": 4,
 "nbformat_minor": 2,
 "cells": [
  {
   "cell_type": "code",
   "execution_count": 11,
   "metadata": {},
   "outputs": [
    {
     "output_type": "stream",
     "name": "stdout",
     "text": [
      "Import OK\n"
     ]
    }
   ],
   "source": [
    "import json\n",
    "from urllib.parse import urlparse , parse_qs, urlencode\n",
    "import tldextract\n",
    "print('Import OK')\n",
    "#import tkinter as tk"
   ]
  },
  {
   "cell_type": "code",
   "execution_count": 12,
   "metadata": {},
   "outputs": [],
   "source": [
    "url = input(\"Enter url:\")  "
   ]
  },
  {
   "cell_type": "code",
   "execution_count": 19,
   "metadata": {},
   "outputs": [],
   "source": [
    "def getUrlStructure(url):\n",
    "    \n",
    "    urlParsed = urlparse(url)\n",
    "    scheme = urlParsed.scheme\n",
    "    netloc = urlParsed.netloc\n",
    "    port=urlParsed.port\n",
    "    path = urlParsed.path    \n",
    "    query = urlParsed.query\n",
    "    params = urlParsed.params\n",
    "    fragment =urlParsed.fragment\n",
    "    \n",
    "    urlExtract =tldextract.extract(url)\n",
    "    domain=urlExtract.domain\n",
    "    subdomain = urlExtract.subdomain\n",
    "    suffix = urlExtract.suffix\n",
    "    \n",
    "    queries = parse_qs(url)\n",
    "    \n",
    "    urlStructure={\n",
    "        \"entered url\":url,\n",
    "        \"netloc\":netloc,\n",
    "        \"scheme\":scheme,\n",
    "        \"subdomain\":subdomain,\n",
    "        \"domain\": domain,\n",
    "        \"port\": port,\n",
    "        \"suffix\":suffix,\n",
    "        \"path\":path,\n",
    "        \"parameters\":params,\n",
    "        \"query\":query,\n",
    "        \"queryParameters\":queries,\n",
    "        \"fragment\":fragment\n",
    "    }\n",
    "   \n",
    "    \n",
    "    # \"x\" will create a file, returns an error if the file exist\n",
    "    #text_file = open(\"myUrlParams.txt\", \"x\")\n",
    "    #json_file = open(\"myUrlParams.json\", \"x\")\n",
    "    \n",
    "    return print(json.dumps(urlStructure,indent=2))"
   ]
  },
  {
   "cell_type": "code",
   "execution_count": 20,
   "metadata": {},
   "outputs": [
    {
     "output_type": "stream",
     "name": "stdout",
     "text": [
      "{\n    \"entered url\": \"https://www.google.com/search?q=get+parameters+url+python&biw=1600&bih=821&ei=NiyoYJGHO8_M1sQP2aWAmA8&oq=get+parameters+url+python&gs_lcp=Cgdnd3Mtd2l6EAMyBggAEBYQHjIGCAAQFhAeMgYIABAWEB4yBggAEBYQHjIGCAAQFhAeMgYIABAWEB46BwgAEEcQsAM6AggAOggIABAIEA0QHlDeI1iNMGCwMmgCcAJ4AIAB4QGIAZIHkgEFMi41LjGYAQCgAQGqAQdnd3Mtd2l6yAEIwAEB&sclient=gws-wiz&ved=0ahUKEwiR-qbl4dvwAhVPppUCHdkSAPMQ4dUDCA4&uact=5\",\n    \"netloc\": \"www.google.com\",\n    \"scheme\": \"https\",\n    \"subdomain\": \"www\",\n    \"domain\": \"google\",\n    \"port\": null,\n    \"suffix\": \"com\",\n    \"path\": \"/search\",\n    \"parameters\": \"\",\n    \"query\": \"q=get+parameters+url+python&biw=1600&bih=821&ei=NiyoYJGHO8_M1sQP2aWAmA8&oq=get+parameters+url+python&gs_lcp=Cgdnd3Mtd2l6EAMyBggAEBYQHjIGCAAQFhAeMgYIABAWEB4yBggAEBYQHjIGCAAQFhAeMgYIABAWEB46BwgAEEcQsAM6AggAOggIABAIEA0QHlDeI1iNMGCwMmgCcAJ4AIAB4QGIAZIHkgEFMi41LjGYAQCgAQGqAQdnd3Mtd2l6yAEIwAEB&sclient=gws-wiz&ved=0ahUKEwiR-qbl4dvwAhVPppUCHdkSAPMQ4dUDCA4&uact=5\",\n    \"queryParameters\": {\n        \"https://www.google.com/search?q\": [\n            \"get parameters url python\"\n        ],\n        \"biw\": [\n            \"1600\"\n        ],\n        \"bih\": [\n            \"821\"\n        ],\n        \"ei\": [\n            \"NiyoYJGHO8_M1sQP2aWAmA8\"\n        ],\n        \"oq\": [\n            \"get parameters url python\"\n        ],\n        \"gs_lcp\": [\n            \"Cgdnd3Mtd2l6EAMyBggAEBYQHjIGCAAQFhAeMgYIABAWEB4yBggAEBYQHjIGCAAQFhAeMgYIABAWEB46BwgAEEcQsAM6AggAOggIABAIEA0QHlDeI1iNMGCwMmgCcAJ4AIAB4QGIAZIHkgEFMi41LjGYAQCgAQGqAQdnd3Mtd2l6yAEIwAEB\"\n        ],\n        \"sclient\": [\n            \"gws-wiz\"\n        ],\n        \"ved\": [\n            \"0ahUKEwiR-qbl4dvwAhVPppUCHdkSAPMQ4dUDCA4\"\n        ],\n        \"uact\": [\n            \"5\"\n        ]\n    },\n    \"fragment\": \"\"\n}\n"
     ]
    }
   ],
   "source": [
    "getUrlStructure(url) "
   ]
  },
  {
   "cell_type": "code",
   "execution_count": null,
   "metadata": {},
   "outputs": [],
   "source": []
  }
 ]
}