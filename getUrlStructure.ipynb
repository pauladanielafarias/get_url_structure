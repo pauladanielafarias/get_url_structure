{
 "metadata": {
  "language_info": {
   "codemirror_mode": {
    "name": "ipython",
    "version": 3
   },
   "file_extension": ".py",
   "mimetype": "text/x-python",
   "name": "python",
   "nbconvert_exporter": "python",
   "pygments_lexer": "ipython3",
   "version": "3.9.5"
  },
  "orig_nbformat": 2,
  "kernelspec": {
   "name": "python395jvsc74a57bd07812ea015bdcee6f23a998adcdd2ef97c151c0c241b7b7070987d9313e41299d",
   "display_name": "Python 3.9.5 64-bit ('3.9')"
  },
  "metadata": {
   "interpreter": {
    "hash": "7812ea015bdcee6f23a998adcdd2ef97c151c0c241b7b7070987d9313e41299d"
   }
  }
 },
 "nbformat": 4,
 "nbformat_minor": 2,
 "cells": [
  {
   "source": [
    "### Importing libraries"
   ],
   "cell_type": "markdown",
   "metadata": {}
  },
  {
   "cell_type": "code",
   "execution_count": 1,
   "metadata": {},
   "outputs": [
    {
     "output_type": "stream",
     "name": "stdout",
     "text": [
      "Import OK\n"
     ]
    }
   ],
   "source": [
    "import json\n",
    "from urllib.parse import urlparse , parse_qs, urlencode\n",
    "import tldextract\n",
    "print('Import OK')\n",
    "#import tkinter as tk"
   ]
  },
  {
   "source": [
    "### Ask the user to enter an url"
   ],
   "cell_type": "markdown",
   "metadata": {}
  },
  {
   "cell_type": "code",
   "execution_count": 2,
   "metadata": {},
   "outputs": [],
   "source": [
    "url = input(\"Enter url:\")  "
   ]
  },
  {
   "source": [
    "### Python function that analyzes the url structure and returns a json with that information"
   ],
   "cell_type": "markdown",
   "metadata": {}
  },
  {
   "cell_type": "code",
   "execution_count": 3,
   "metadata": {},
   "outputs": [],
   "source": [
    "def getUrlStructure(url):\n",
    "    \n",
    "    urlParsed = urlparse(url)\n",
    "    scheme = urlParsed.scheme\n",
    "    netloc = urlParsed.netloc\n",
    "    port=urlParsed.port\n",
    "    path = urlParsed.path    \n",
    "    query = urlParsed.query\n",
    "    params = urlParsed.params\n",
    "    fragment =urlParsed.fragment\n",
    "    \n",
    "    urlExtract =tldextract.extract(url)\n",
    "    domain=urlExtract.domain\n",
    "    subdomain = urlExtract.subdomain\n",
    "    suffix = urlExtract.suffix\n",
    "    \n",
    "    queries = parse_qs(url)\n",
    "    \n",
    "    urlStructure={\n",
    "        \"entered url\":url,\n",
    "        \"netloc\":netloc,\n",
    "        \"scheme\":scheme,\n",
    "        \"subdomain\":subdomain,\n",
    "        \"domain\": domain,\n",
    "        \"port\": port,\n",
    "        \"suffix\":suffix,\n",
    "        \"path\":path,\n",
    "        \"parameters\":params,\n",
    "        \"query\":query,\n",
    "        \"queryParameters\":queries,\n",
    "        \"fragment\":fragment\n",
    "    }\n",
    "   \n",
    "    \n",
    "    # \"x\" will create a file, returns an error if the file exist\n",
    "    #text_file = open(\"myUrlParams.txt\", \"x\")\n",
    "    #json_file = open(\"myUrlParams.json\", \"x\")\n",
    "    \n",
    "    return print(json.dumps(urlStructure,indent=2))"
   ]
  },
  {
   "source": [
    "### Calling the function"
   ],
   "cell_type": "markdown",
   "metadata": {}
  },
  {
   "cell_type": "code",
   "execution_count": 4,
   "metadata": {},
   "outputs": [
    {
     "output_type": "stream",
     "name": "stdout",
     "text": [
      "{\n  \"entered url\": \"https://example.com/over/there?field1=value1&field2=value2&field3=value3\",\n  \"netloc\": \"example.com\",\n  \"scheme\": \"https\",\n  \"subdomain\": \"\",\n  \"domain\": \"example\",\n  \"port\": null,\n  \"suffix\": \"com\",\n  \"path\": \"/over/there\",\n  \"parameters\": \"\",\n  \"query\": \"field1=value1&field2=value2&field3=value3\",\n  \"queryParameters\": {\n    \"https://example.com/over/there?field1\": [\n      \"value1\"\n    ],\n    \"field2\": [\n      \"value2\"\n    ],\n    \"field3\": [\n      \"value3\"\n    ]\n  },\n  \"fragment\": \"\"\n}\n"
     ]
    }
   ],
   "source": [
    "getUrlStructure(url) "
   ]
  },
  {
   "cell_type": "code",
   "execution_count": null,
   "metadata": {},
   "outputs": [],
   "source": []
  }
 ]
}